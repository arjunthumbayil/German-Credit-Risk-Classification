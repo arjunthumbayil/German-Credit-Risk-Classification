{
 "cells": [
  {
   "cell_type": "markdown",
   "metadata": {},
   "source": [
    "# Introduction\n",
    "\n",
    " The current Jupyter Notebook highlights the following:\n",
    "\n",
    "* Introduction\n",
    "    * Background\n",
    "    * Objective    \n",
    " * 1.  Libraries Implemented    \n",
    " * 2.  Data Collection    \n",
    "    *  2.1 Data Source\n",
    "    *  2.2 Data Loading\n",
    "    *  2.3 Data Cleansing\n",
    "        *  2.3.1 Removal of NAN's\n",
    "* 3. Exploratory Data Analysis\n",
    "* 4. Feature Engineering\n",
    "* 5. Data Modeling\n",
    "    * 5.1 Data Preparation\n",
    "        * 5.1.1 Assigning 'Dependent' and 'Independent' Features.\n",
    "        * 5.1.2 Data Stadardization: Dummification of Categorical Columns and Normalization of Numerical Columns\n",
    "        * 5.1.3 Dividing the Data into 'Train', 'Validation' and 'Test' Sets.\n",
    "    * 5.2 Model Comparison\n",
    "        - Various Models are assessed based on their Recall, Precision, ROC-AUC and Accuracy.\n",
    "    * 5.3 Model Selection : Logistic Regression\n",
    "    * 5.4 Model Optimization\n",
    "        * 5.4.1 'l2' Regularized Model\n",
    "        * 5.4.2 'l1' Regularized Model\n",
    "    * 5.5 Model Evaluation\n",
    "*  6. Results\n",
    "*  7. Conclusion"
   ]
  },
  {
   "cell_type": "markdown",
   "metadata": {},
   "source": [
    "## Background"
   ]
  },
  {
   "cell_type": "markdown",
   "metadata": {},
   "source": [
    "* The Dataset holds about a 1000 credit card transactions of users along with labels."
   ]
  },
  {
   "cell_type": "markdown",
   "metadata": {},
   "source": [
    "## Objective"
   ]
  },
  {
   "cell_type": "markdown",
   "metadata": {},
   "source": [
    "* The objective is to build a model that classifies whether a Transaction is fraudulent or not."
   ]
  },
  {
   "cell_type": "markdown",
   "metadata": {},
   "source": [
    "# 1. Libraries Implemented"
   ]
  },
  {
   "cell_type": "code",
   "execution_count": 1,
   "metadata": {},
   "outputs": [],
   "source": [
    "## Classification Algorithms\n",
    "\n",
    "from sklearn.linear_model import LogisticRegression, SGDClassifier\n",
    "from sklearn.tree import DecisionTreeClassifier\n",
    "from sklearn.neighbors import KNeighborsClassifier\n",
    "from sklearn.ensemble import RandomForestClassifier, AdaBoostClassifier, GradientBoostingClassifier\n",
    "from sklearn.svm import SVC\n",
    "\n",
    "\n",
    "from sklearn.preprocessing import LabelEncoder, StandardScaler, OneHotEncoder\n",
    "\n",
    "import pandas as pd\n",
    "import numpy as np\n",
    "\n",
    "# importing ploting libraries\n",
    "import matplotlib.pyplot as plt   \n",
    "# To enable plotting graphs in Jupyter notebook\n",
    "%matplotlib inline\n",
    "#importing seaborn for statistical plots\n",
    "import seaborn as sns\n",
    "\n",
    "\n",
    "# Libraries for constructing Pipelines\n",
    "from sklearn.pipeline import Pipeline, make_pipeline\n",
    "\n",
    "from sklearn.model_selection import train_test_split, GridSearchCV, KFold, cross_val_score\n",
    "\n",
    "# Library for Normalization of Numerical Data\n",
    "from scipy.stats import zscore\n",
    "\n",
    "# calculate accuracy measures and confusion matrix\n",
    "from sklearn import metrics\n",
    "from sklearn.metrics import confusion_matrix\n",
    "\n",
    "# Suppress warnings\n",
    "import warnings\n",
    "warnings.filterwarnings(\"ignore\")"
   ]
  },
  {
   "cell_type": "markdown",
   "metadata": {},
   "source": [
    "# 2. Data Collection"
   ]
  },
  {
   "cell_type": "markdown",
   "metadata": {},
   "source": [
    "## 2.1 Data Source"
   ]
  },
  {
   "cell_type": "markdown",
   "metadata": {},
   "source": [
    "The Data Source for the current project is taken from the **Kaggle** repository with the following [Link](​https://www.kaggle.com/uciml/german-credit)"
   ]
  },
  {
   "cell_type": "markdown",
   "metadata": {},
   "source": [
    "The original Dataset was missing the **default** column. I have added the column from the original UCI Repository.\n",
    "Please refer the below link for further reference:\n",
    "\n",
    "[Missing Credit Label](https://www.kaggle.com/uciml/german-credit/discussion/26658#latest-275345)"
   ]
  },
  {
   "cell_type": "markdown",
   "metadata": {},
   "source": [
    "## 2.2 Data Loading"
   ]
  },
  {
   "cell_type": "code",
   "execution_count": 2,
   "metadata": {},
   "outputs": [],
   "source": [
    "credit = pd.read_csv('german_credit_data.csv')"
   ]
  },
  {
   "cell_type": "code",
   "execution_count": 3,
   "metadata": {},
   "outputs": [
    {
     "data": {
      "text/html": [
       "<div>\n",
       "<style scoped>\n",
       "    .dataframe tbody tr th:only-of-type {\n",
       "        vertical-align: middle;\n",
       "    }\n",
       "\n",
       "    .dataframe tbody tr th {\n",
       "        vertical-align: top;\n",
       "    }\n",
       "\n",
       "    .dataframe thead th {\n",
       "        text-align: right;\n",
       "    }\n",
       "</style>\n",
       "<table border=\"1\" class=\"dataframe\">\n",
       "  <thead>\n",
       "    <tr style=\"text-align: right;\">\n",
       "      <th></th>\n",
       "      <th>Unnamed: 0</th>\n",
       "      <th>Age</th>\n",
       "      <th>Sex</th>\n",
       "      <th>Job</th>\n",
       "      <th>Housing</th>\n",
       "      <th>Saving accounts</th>\n",
       "      <th>Checking account</th>\n",
       "      <th>Credit amount</th>\n",
       "      <th>Duration</th>\n",
       "      <th>Purpose</th>\n",
       "      <th>Risk</th>\n",
       "    </tr>\n",
       "  </thead>\n",
       "  <tbody>\n",
       "    <tr>\n",
       "      <th>0</th>\n",
       "      <td>0</td>\n",
       "      <td>67</td>\n",
       "      <td>male</td>\n",
       "      <td>2</td>\n",
       "      <td>own</td>\n",
       "      <td>NaN</td>\n",
       "      <td>little</td>\n",
       "      <td>1169</td>\n",
       "      <td>6</td>\n",
       "      <td>radio/TV</td>\n",
       "      <td>good</td>\n",
       "    </tr>\n",
       "    <tr>\n",
       "      <th>1</th>\n",
       "      <td>1</td>\n",
       "      <td>22</td>\n",
       "      <td>female</td>\n",
       "      <td>2</td>\n",
       "      <td>own</td>\n",
       "      <td>little</td>\n",
       "      <td>moderate</td>\n",
       "      <td>5951</td>\n",
       "      <td>48</td>\n",
       "      <td>radio/TV</td>\n",
       "      <td>bad</td>\n",
       "    </tr>\n",
       "    <tr>\n",
       "      <th>2</th>\n",
       "      <td>2</td>\n",
       "      <td>49</td>\n",
       "      <td>male</td>\n",
       "      <td>1</td>\n",
       "      <td>own</td>\n",
       "      <td>little</td>\n",
       "      <td>NaN</td>\n",
       "      <td>2096</td>\n",
       "      <td>12</td>\n",
       "      <td>education</td>\n",
       "      <td>good</td>\n",
       "    </tr>\n",
       "    <tr>\n",
       "      <th>3</th>\n",
       "      <td>3</td>\n",
       "      <td>45</td>\n",
       "      <td>male</td>\n",
       "      <td>2</td>\n",
       "      <td>free</td>\n",
       "      <td>little</td>\n",
       "      <td>little</td>\n",
       "      <td>7882</td>\n",
       "      <td>42</td>\n",
       "      <td>furniture/equipment</td>\n",
       "      <td>good</td>\n",
       "    </tr>\n",
       "    <tr>\n",
       "      <th>4</th>\n",
       "      <td>4</td>\n",
       "      <td>53</td>\n",
       "      <td>male</td>\n",
       "      <td>2</td>\n",
       "      <td>free</td>\n",
       "      <td>little</td>\n",
       "      <td>little</td>\n",
       "      <td>4870</td>\n",
       "      <td>24</td>\n",
       "      <td>car</td>\n",
       "      <td>bad</td>\n",
       "    </tr>\n",
       "  </tbody>\n",
       "</table>\n",
       "</div>"
      ],
      "text/plain": [
       "   Unnamed: 0  Age     Sex  Job Housing Saving accounts Checking account  \\\n",
       "0           0   67    male    2     own             NaN           little   \n",
       "1           1   22  female    2     own          little         moderate   \n",
       "2           2   49    male    1     own          little              NaN   \n",
       "3           3   45    male    2    free          little           little   \n",
       "4           4   53    male    2    free          little           little   \n",
       "\n",
       "   Credit amount  Duration              Purpose  Risk  \n",
       "0           1169         6             radio/TV  good  \n",
       "1           5951        48             radio/TV   bad  \n",
       "2           2096        12            education  good  \n",
       "3           7882        42  furniture/equipment  good  \n",
       "4           4870        24                  car   bad  "
      ]
     },
     "execution_count": 3,
     "metadata": {},
     "output_type": "execute_result"
    }
   ],
   "source": [
    "credit.head()"
   ]
  },
  {
   "cell_type": "code",
   "execution_count": 4,
   "metadata": {},
   "outputs": [],
   "source": [
    "credit = pd.read_csv('german_credit_data.csv', header = 0, names = ['Index', 'Age', 'Sex', 'Job', 'Housing', 'Saving accounts',\n",
    "       'Checking account', 'Credit amount', 'Duration', 'Purpose', 'Risk'])"
   ]
  },
  {
   "cell_type": "code",
   "execution_count": 5,
   "metadata": {
    "scrolled": false
   },
   "outputs": [
    {
     "data": {
      "text/html": [
       "<div>\n",
       "<style scoped>\n",
       "    .dataframe tbody tr th:only-of-type {\n",
       "        vertical-align: middle;\n",
       "    }\n",
       "\n",
       "    .dataframe tbody tr th {\n",
       "        vertical-align: top;\n",
       "    }\n",
       "\n",
       "    .dataframe thead th {\n",
       "        text-align: right;\n",
       "    }\n",
       "</style>\n",
       "<table border=\"1\" class=\"dataframe\">\n",
       "  <thead>\n",
       "    <tr style=\"text-align: right;\">\n",
       "      <th></th>\n",
       "      <th>Index</th>\n",
       "      <th>Age</th>\n",
       "      <th>Sex</th>\n",
       "      <th>Job</th>\n",
       "      <th>Housing</th>\n",
       "      <th>Saving accounts</th>\n",
       "      <th>Checking account</th>\n",
       "      <th>Credit amount</th>\n",
       "      <th>Duration</th>\n",
       "      <th>Purpose</th>\n",
       "      <th>Risk</th>\n",
       "    </tr>\n",
       "  </thead>\n",
       "  <tbody>\n",
       "    <tr>\n",
       "      <th>0</th>\n",
       "      <td>0</td>\n",
       "      <td>67</td>\n",
       "      <td>male</td>\n",
       "      <td>2</td>\n",
       "      <td>own</td>\n",
       "      <td>NaN</td>\n",
       "      <td>little</td>\n",
       "      <td>1169</td>\n",
       "      <td>6</td>\n",
       "      <td>radio/TV</td>\n",
       "      <td>good</td>\n",
       "    </tr>\n",
       "    <tr>\n",
       "      <th>1</th>\n",
       "      <td>1</td>\n",
       "      <td>22</td>\n",
       "      <td>female</td>\n",
       "      <td>2</td>\n",
       "      <td>own</td>\n",
       "      <td>little</td>\n",
       "      <td>moderate</td>\n",
       "      <td>5951</td>\n",
       "      <td>48</td>\n",
       "      <td>radio/TV</td>\n",
       "      <td>bad</td>\n",
       "    </tr>\n",
       "    <tr>\n",
       "      <th>2</th>\n",
       "      <td>2</td>\n",
       "      <td>49</td>\n",
       "      <td>male</td>\n",
       "      <td>1</td>\n",
       "      <td>own</td>\n",
       "      <td>little</td>\n",
       "      <td>NaN</td>\n",
       "      <td>2096</td>\n",
       "      <td>12</td>\n",
       "      <td>education</td>\n",
       "      <td>good</td>\n",
       "    </tr>\n",
       "    <tr>\n",
       "      <th>3</th>\n",
       "      <td>3</td>\n",
       "      <td>45</td>\n",
       "      <td>male</td>\n",
       "      <td>2</td>\n",
       "      <td>free</td>\n",
       "      <td>little</td>\n",
       "      <td>little</td>\n",
       "      <td>7882</td>\n",
       "      <td>42</td>\n",
       "      <td>furniture/equipment</td>\n",
       "      <td>good</td>\n",
       "    </tr>\n",
       "    <tr>\n",
       "      <th>4</th>\n",
       "      <td>4</td>\n",
       "      <td>53</td>\n",
       "      <td>male</td>\n",
       "      <td>2</td>\n",
       "      <td>free</td>\n",
       "      <td>little</td>\n",
       "      <td>little</td>\n",
       "      <td>4870</td>\n",
       "      <td>24</td>\n",
       "      <td>car</td>\n",
       "      <td>bad</td>\n",
       "    </tr>\n",
       "  </tbody>\n",
       "</table>\n",
       "</div>"
      ],
      "text/plain": [
       "   Index  Age     Sex  Job Housing Saving accounts Checking account  \\\n",
       "0      0   67    male    2     own             NaN           little   \n",
       "1      1   22  female    2     own          little         moderate   \n",
       "2      2   49    male    1     own          little              NaN   \n",
       "3      3   45    male    2    free          little           little   \n",
       "4      4   53    male    2    free          little           little   \n",
       "\n",
       "   Credit amount  Duration              Purpose  Risk  \n",
       "0           1169         6             radio/TV  good  \n",
       "1           5951        48             radio/TV   bad  \n",
       "2           2096        12            education  good  \n",
       "3           7882        42  furniture/equipment  good  \n",
       "4           4870        24                  car   bad  "
      ]
     },
     "execution_count": 5,
     "metadata": {},
     "output_type": "execute_result"
    }
   ],
   "source": [
    "credit.head()"
   ]
  },
  {
   "cell_type": "code",
   "execution_count": 6,
   "metadata": {},
   "outputs": [],
   "source": [
    "credit['default'] = credit['Risk'].map({'good' :1, 'bad': 0})"
   ]
  },
  {
   "cell_type": "code",
   "execution_count": 7,
   "metadata": {},
   "outputs": [],
   "source": [
    "## Dropping the Risk column.\n",
    "credit = credit.drop(columns=['Risk'], axis=1)"
   ]
  },
  {
   "cell_type": "code",
   "execution_count": 8,
   "metadata": {},
   "outputs": [
    {
     "data": {
      "text/html": [
       "<div>\n",
       "<style scoped>\n",
       "    .dataframe tbody tr th:only-of-type {\n",
       "        vertical-align: middle;\n",
       "    }\n",
       "\n",
       "    .dataframe tbody tr th {\n",
       "        vertical-align: top;\n",
       "    }\n",
       "\n",
       "    .dataframe thead th {\n",
       "        text-align: right;\n",
       "    }\n",
       "</style>\n",
       "<table border=\"1\" class=\"dataframe\">\n",
       "  <thead>\n",
       "    <tr style=\"text-align: right;\">\n",
       "      <th></th>\n",
       "      <th>Index</th>\n",
       "      <th>Age</th>\n",
       "      <th>Sex</th>\n",
       "      <th>Job</th>\n",
       "      <th>Housing</th>\n",
       "      <th>Saving accounts</th>\n",
       "      <th>Checking account</th>\n",
       "      <th>Credit amount</th>\n",
       "      <th>Duration</th>\n",
       "      <th>Purpose</th>\n",
       "      <th>default</th>\n",
       "    </tr>\n",
       "  </thead>\n",
       "  <tbody>\n",
       "    <tr>\n",
       "      <th>0</th>\n",
       "      <td>0</td>\n",
       "      <td>67</td>\n",
       "      <td>male</td>\n",
       "      <td>2</td>\n",
       "      <td>own</td>\n",
       "      <td>NaN</td>\n",
       "      <td>little</td>\n",
       "      <td>1169</td>\n",
       "      <td>6</td>\n",
       "      <td>radio/TV</td>\n",
       "      <td>1</td>\n",
       "    </tr>\n",
       "    <tr>\n",
       "      <th>1</th>\n",
       "      <td>1</td>\n",
       "      <td>22</td>\n",
       "      <td>female</td>\n",
       "      <td>2</td>\n",
       "      <td>own</td>\n",
       "      <td>little</td>\n",
       "      <td>moderate</td>\n",
       "      <td>5951</td>\n",
       "      <td>48</td>\n",
       "      <td>radio/TV</td>\n",
       "      <td>0</td>\n",
       "    </tr>\n",
       "    <tr>\n",
       "      <th>2</th>\n",
       "      <td>2</td>\n",
       "      <td>49</td>\n",
       "      <td>male</td>\n",
       "      <td>1</td>\n",
       "      <td>own</td>\n",
       "      <td>little</td>\n",
       "      <td>NaN</td>\n",
       "      <td>2096</td>\n",
       "      <td>12</td>\n",
       "      <td>education</td>\n",
       "      <td>1</td>\n",
       "    </tr>\n",
       "    <tr>\n",
       "      <th>3</th>\n",
       "      <td>3</td>\n",
       "      <td>45</td>\n",
       "      <td>male</td>\n",
       "      <td>2</td>\n",
       "      <td>free</td>\n",
       "      <td>little</td>\n",
       "      <td>little</td>\n",
       "      <td>7882</td>\n",
       "      <td>42</td>\n",
       "      <td>furniture/equipment</td>\n",
       "      <td>1</td>\n",
       "    </tr>\n",
       "    <tr>\n",
       "      <th>4</th>\n",
       "      <td>4</td>\n",
       "      <td>53</td>\n",
       "      <td>male</td>\n",
       "      <td>2</td>\n",
       "      <td>free</td>\n",
       "      <td>little</td>\n",
       "      <td>little</td>\n",
       "      <td>4870</td>\n",
       "      <td>24</td>\n",
       "      <td>car</td>\n",
       "      <td>0</td>\n",
       "    </tr>\n",
       "  </tbody>\n",
       "</table>\n",
       "</div>"
      ],
      "text/plain": [
       "   Index  Age     Sex  Job Housing Saving accounts Checking account  \\\n",
       "0      0   67    male    2     own             NaN           little   \n",
       "1      1   22  female    2     own          little         moderate   \n",
       "2      2   49    male    1     own          little              NaN   \n",
       "3      3   45    male    2    free          little           little   \n",
       "4      4   53    male    2    free          little           little   \n",
       "\n",
       "   Credit amount  Duration              Purpose  default  \n",
       "0           1169         6             radio/TV        1  \n",
       "1           5951        48             radio/TV        0  \n",
       "2           2096        12            education        1  \n",
       "3           7882        42  furniture/equipment        1  \n",
       "4           4870        24                  car        0  "
      ]
     },
     "execution_count": 8,
     "metadata": {},
     "output_type": "execute_result"
    }
   ],
   "source": [
    "credit.head()"
   ]
  },
  {
   "cell_type": "markdown",
   "metadata": {},
   "source": [
    "## 2.3 Data Cleansing"
   ]
  },
  {
   "cell_type": "code",
   "execution_count": 9,
   "metadata": {},
   "outputs": [
    {
     "data": {
      "text/plain": [
       "1    700\n",
       "0    300\n",
       "Name: default, dtype: int64"
      ]
     },
     "execution_count": 9,
     "metadata": {},
     "output_type": "execute_result"
    }
   ],
   "source": [
    "credit['default'].value_counts()"
   ]
  },
  {
   "cell_type": "code",
   "execution_count": 10,
   "metadata": {
    "scrolled": false
   },
   "outputs": [
    {
     "name": "stdout",
     "output_type": "stream",
     "text": [
      "<class 'pandas.core.frame.DataFrame'>\n",
      "RangeIndex: 1000 entries, 0 to 999\n",
      "Data columns (total 11 columns):\n",
      "Index               1000 non-null int64\n",
      "Age                 1000 non-null int64\n",
      "Sex                 1000 non-null object\n",
      "Job                 1000 non-null int64\n",
      "Housing             1000 non-null object\n",
      "Saving accounts     817 non-null object\n",
      "Checking account    606 non-null object\n",
      "Credit amount       1000 non-null int64\n",
      "Duration            1000 non-null int64\n",
      "Purpose             1000 non-null object\n",
      "default             1000 non-null int64\n",
      "dtypes: int64(6), object(5)\n",
      "memory usage: 86.0+ KB\n"
     ]
    }
   ],
   "source": [
    "credit.info()"
   ]
  },
  {
   "cell_type": "markdown",
   "metadata": {},
   "source": [
    "### 2.3.1 Removal of NAN's"
   ]
  },
  {
   "cell_type": "code",
   "execution_count": 11,
   "metadata": {},
   "outputs": [],
   "source": [
    "# Removing NaN's from 'Saving accounts' and 'Checking account' column"
   ]
  },
  {
   "cell_type": "code",
   "execution_count": 12,
   "metadata": {},
   "outputs": [],
   "source": [
    "credit['Saving accounts'] = credit['Saving accounts'].fillna(value = 'NA')"
   ]
  },
  {
   "cell_type": "code",
   "execution_count": 13,
   "metadata": {},
   "outputs": [
    {
     "name": "stdout",
     "output_type": "stream",
     "text": [
      "little        603\n",
      "NA            183\n",
      "moderate      103\n",
      "quite rich     63\n",
      "rich           48\n",
      "Name: Saving accounts, dtype: int64\n"
     ]
    }
   ],
   "source": [
    "print(credit['Saving accounts'].value_counts())"
   ]
  },
  {
   "cell_type": "code",
   "execution_count": 14,
   "metadata": {},
   "outputs": [],
   "source": [
    "credit['Checking account'] = credit['Checking account'].fillna(value = 'NA')"
   ]
  },
  {
   "cell_type": "code",
   "execution_count": 15,
   "metadata": {
    "scrolled": true
   },
   "outputs": [
    {
     "data": {
      "text/plain": [
       "NA          394\n",
       "little      274\n",
       "moderate    269\n",
       "rich         63\n",
       "Name: Checking account, dtype: int64"
      ]
     },
     "execution_count": 15,
     "metadata": {},
     "output_type": "execute_result"
    }
   ],
   "source": [
    "credit['Checking account'].value_counts()"
   ]
  },
  {
   "cell_type": "markdown",
   "metadata": {},
   "source": [
    "# 3. Exploratory Data Analysis"
   ]
  },
  {
   "cell_type": "code",
   "execution_count": 16,
   "metadata": {
    "scrolled": true
   },
   "outputs": [
    {
     "data": {
      "text/plain": [
       "<matplotlib.axes._subplots.AxesSubplot at 0x1a92f904780>"
      ]
     },
     "execution_count": 16,
     "metadata": {},
     "output_type": "execute_result"
    },
    {
     "data": {
      "image/png": "[encoded data removed]",
      "text/plain": [
       "<Figure size 432x288 with 1 Axes>"
      ]
     },
     "metadata": {
      "needs_background": "light"
     },
     "output_type": "display_data"
    }
   ],
   "source": [
    "sns.countplot(x= 'Sex', data = credit, hue= 'default')"
   ]
  },
  {
   "cell_type": "code",
   "execution_count": 17,
   "metadata": {},
   "outputs": [
    {
     "data": {
      "text/plain": [
       "<matplotlib.axes._subplots.AxesSubplot at 0x1a92fbfb630>"
      ]
     },
     "execution_count": 17,
     "metadata": {},
     "output_type": "execute_result"
    },
    {
     "data": {
      "image/png": "[encoded data removed]",
      "text/plain": [
       "<Figure size 432x288 with 1 Axes>"
      ]
     },
     "metadata": {
      "needs_background": "light"
     },
     "output_type": "display_data"
    }
   ],
   "source": [
    "sns.countplot(x= 'Job', data = credit, hue= 'default')"
   ]
  },
  {
   "cell_type": "code",
   "execution_count": 18,
   "metadata": {},
   "outputs": [
    {
     "data": {
      "text/plain": [
       "<matplotlib.axes._subplots.AxesSubplot at 0x1a92fc7fb38>"
      ]
     },
     "execution_count": 18,
     "metadata": {},
     "output_type": "execute_result"
    },
    {
     "data": {
      "image/png": "[encoded data removed]",
      "text/plain": [
       "<Figure size 432x288 with 1 Axes>"
      ]
     },
     "metadata": {
      "needs_background": "light"
     },
     "output_type": "display_data"
    }
   ],
   "source": [
    "sns.countplot(x= 'Housing', data = credit, hue= 'default')"
   ]
  },
  {
   "cell_type": "code",
   "execution_count": 19,
   "metadata": {},
   "outputs": [
    {
     "data": {
      "text/plain": [
       "<matplotlib.axes._subplots.AxesSubplot at 0x1a92fcda748>"
      ]
     },
     "execution_count": 19,
     "metadata": {},
     "output_type": "execute_result"
    },
    {
     "data": {
      "image/png": "[encoded data removed]",
      "text/plain": [
       "<Figure size 432x288 with 1 Axes>"
      ]
     },
     "metadata": {
      "needs_background": "light"
     },
     "output_type": "display_data"
    }
   ],
   "source": [
    "sns.countplot(x= 'Saving accounts', data = credit, hue= 'default')"
   ]
  },
  {
   "cell_type": "markdown",
   "metadata": {},
   "source": [
    " - With respect to **'Savings Account'** we can visually observe that people with 'little or 'moderate' income are likely to default more.\n",
    " - Let's quantify our observations"
   ]
  },
  {
   "cell_type": "markdown",
   "metadata": {},
   "source": [
    "####  Proportion of Savings Account with little or moderate income and their default level"
   ]
  },
  {
   "cell_type": "code",
   "execution_count": 20,
   "metadata": {},
   "outputs": [
    {
     "name": "stdout",
     "output_type": "stream",
     "text": [
      "\n",
      "Little Income :\n",
      "    default\n",
      "1      386\n",
      "0      217\n",
      "\n",
      "Moderate Income\n",
      "    default\n",
      "1       69\n",
      "0       34\n"
     ]
    }
   ],
   "source": [
    "print(\"\\nLittle Income :\\n\",credit[credit['Saving accounts'] == 'little']['default'].value_counts().to_frame())\n",
    "print(\"\\nModerate Income\\n\", credit[credit['Saving accounts'] == 'moderate']['default'].value_counts().to_frame())"
   ]
  },
  {
   "cell_type": "code",
   "execution_count": 21,
   "metadata": {
    "scrolled": false
   },
   "outputs": [
    {
     "data": {
      "text/plain": [
       "<matplotlib.axes._subplots.AxesSubplot at 0x1a92fd532e8>"
      ]
     },
     "execution_count": 21,
     "metadata": {},
     "output_type": "execute_result"
    },
    {
     "data": {
      "image/png": "[encoded data removed]",
      "text/plain": [
       "<Figure size 432x288 with 1 Axes>"
      ]
     },
     "metadata": {
      "needs_background": "light"
     },
     "output_type": "display_data"
    }
   ],
   "source": [
    "sns.countplot(x= 'Checking account', data = credit, hue= 'default')"
   ]
  },
  {
   "cell_type": "markdown",
   "metadata": {},
   "source": [
    " - So, People with little or moderate income are proportionally likely to default more.\n",
    " - Lets analyze the level at which each type of Checking account affects the Proportionality of Default."
   ]
  },
  {
   "cell_type": "markdown",
   "metadata": {},
   "source": [
    "#### Proportion of Chechings Account with little or moderate income and their default level"
   ]
  },
  {
   "cell_type": "code",
   "execution_count": 22,
   "metadata": {
    "scrolled": true
   },
   "outputs": [
    {
     "name": "stdout",
     "output_type": "stream",
     "text": [
      "\n",
      "Little Income :\n",
      "    default\n",
      "1      139\n",
      "0      135\n",
      "\n",
      "Moderate Income :\n",
      "    default\n",
      "1      164\n",
      "0      105\n"
     ]
    }
   ],
   "source": [
    "print(\"\\nLittle Income :\\n\",credit[credit['Checking account'] == 'little']['default'].value_counts().to_frame())\n",
    "print(\"\\nModerate Income :\\n\",credit[credit['Checking account'] == 'moderate']['default'].value_counts().to_frame())"
   ]
  },
  {
   "cell_type": "markdown",
   "metadata": {},
   "source": [
    "# 4. Feature Engineering"
   ]
  },
  {
   "cell_type": "markdown",
   "metadata": {},
   "source": [
    " - Based on the inference of 'Savings Account' and 'Checking Account' we can club the columns into 3 categories :\n",
    "     - 'Little'\n",
    "     - 'Moderate'\n",
    "     - 'Other'"
   ]
  },
  {
   "cell_type": "code",
   "execution_count": 23,
   "metadata": {},
   "outputs": [],
   "source": [
    "# 'Saving Account'\n",
    "\n",
    "credit['Saving accounts']= credit['Saving accounts'].map({'little': 'little', 'moderate': 'moderate', 'quite rich':'other','rich':'other', 'NA':'other' })"
   ]
  },
  {
   "cell_type": "code",
   "execution_count": 24,
   "metadata": {},
   "outputs": [],
   "source": [
    "# 'Checking Account'\n",
    "credit['Checking account']= credit['Checking account'].map({'little': 'little', 'moderate': 'moderate','rich':'other', 'NA':'other' })"
   ]
  },
  {
   "cell_type": "code",
   "execution_count": 25,
   "metadata": {},
   "outputs": [],
   "source": [
    "## LabeEncoding the Purpose column\n",
    "le = LabelEncoder()\n",
    "credit['Purpose'] = le.fit_transform(credit['Purpose'])"
   ]
  },
  {
   "cell_type": "code",
   "execution_count": 26,
   "metadata": {
    "scrolled": false
   },
   "outputs": [
    {
     "name": "stdout",
     "output_type": "stream",
     "text": [
      "The various purposes are:  ['business', 'car', 'domestic appliances', 'education', 'furniture/equipment', 'radio/TV', 'repairs', 'vacation/others'] \n",
      "And the hot encoded numbers for the same are [5, 3, 4, 1, 0, 2, 6, 7]\n"
     ]
    }
   ],
   "source": [
    "print(\"The various purposes are: \", le.classes_.tolist(), \"\\nAnd the hot encoded numbers for the same are\", credit['Purpose'].unique().tolist())"
   ]
  },
  {
   "cell_type": "markdown",
   "metadata": {},
   "source": [
    "# 5. Data Processing"
   ]
  },
  {
   "cell_type": "markdown",
   "metadata": {},
   "source": [
    "## 5.1 Data Preparation"
   ]
  },
  {
   "cell_type": "markdown",
   "metadata": {},
   "source": [
    "### 5.1.1 Assigning 'Dependent' and 'Independent' Features"
   ]
  },
  {
   "cell_type": "code",
   "execution_count": 27,
   "metadata": {},
   "outputs": [],
   "source": [
    "x= credit[['Age', 'Sex', 'Job', 'Housing', 'Saving accounts',\n",
    "       'Checking account', 'Credit amount', 'Duration', 'Purpose']]\n",
    "y = credit['default']"
   ]
  },
  {
   "cell_type": "code",
   "execution_count": 28,
   "metadata": {},
   "outputs": [],
   "source": [
    "# Creating a copy to avoid corruption of Data.\n",
    "x1 = x.copy()"
   ]
  },
  {
   "cell_type": "markdown",
   "metadata": {},
   "source": [
    "### 5.1.2 Data Stadardization: Dummification of Categorical Columns and Normalization of Numerical Columns"
   ]
  },
  {
   "cell_type": "code",
   "execution_count": 29,
   "metadata": {
    "scrolled": true
   },
   "outputs": [
    {
     "name": "stdout",
     "output_type": "stream",
     "text": [
      "Categorical Columns:  ['Sex', 'Housing', 'Saving accounts', 'Checking account']\n",
      "\n",
      "Numerical Columns: ['Age', 'Job', 'Credit amount', 'Duration', 'Purpose']\n"
     ]
    }
   ],
   "source": [
    "# List to store Categorical Columns\n",
    "cat_cols = list(x1.columns[x1.dtypes == 'object'])\n",
    "print(\"Categorical Columns: \",cat_cols)\n",
    "\n",
    "# List to store Numerical Columns\n",
    "num_cols = list(x1.columns[x1.dtypes != 'object'])\n",
    "print(\"\\nNumerical Columns:\" ,num_cols)\n",
    "\n",
    "## One-Hot Encoding Categorical Columns\n",
    "x1_dummy =  pd.get_dummies(x1[cat_cols], drop_first=True)\n",
    "\n",
    "## Joining New dummified and Numerical columns\n",
    "x_new = pd.concat([x1_dummy, x1[num_cols]], axis=1, join='inner')\n",
    "\n",
    "#### Normalizing the Dataset\n",
    "ss = StandardScaler()\n",
    "\n",
    "x_normal = ss.fit_transform(x_new)"
   ]
  },
  {
   "cell_type": "markdown",
   "metadata": {},
   "source": [
    "### 5.1.3 Dividing the Data into 'Train', 'Validation' and 'Test' Sets."
   ]
  },
  {
   "cell_type": "code",
   "execution_count": 30,
   "metadata": {},
   "outputs": [],
   "source": [
    "SEED = 666"
   ]
  },
  {
   "cell_type": "code",
   "execution_count": 31,
   "metadata": {},
   "outputs": [],
   "source": [
    "x_int, x_test, y_int, y_test = train_test_split(x_normal, y, test_size=100, stratify=y, random_state = SEED)"
   ]
  },
  {
   "cell_type": "code",
   "execution_count": 32,
   "metadata": {},
   "outputs": [],
   "source": [
    "x_train,x_val,y_train,y_val = train_test_split(x_int, y_int, test_size=100, stratify = y_int, random_state = SEED)"
   ]
  },
  {
   "cell_type": "code",
   "execution_count": 33,
   "metadata": {},
   "outputs": [
    {
     "name": "stdout",
     "output_type": "stream",
     "text": [
      "train: 0.8% | Validation: 0.1% | Test: 0.1%\n"
     ]
    }
   ],
   "source": [
    "# print proportions\n",
    "print('train: {}% | Validation: {}% | Test: {}%'.format( round(len(y_train)/len(y),2), \n",
    "                                                        round(len(y_val)/len(y) ,2), \n",
    "                                                        round(len(y_test)/len(y),2) ) )"
   ]
  },
  {
   "cell_type": "markdown",
   "metadata": {},
   "source": [
    "## 5.2 Model Comparison"
   ]
  },
  {
   "cell_type": "markdown",
   "metadata": {},
   "source": [
    "   An Analytical comparison is performed initially, to assess which Models fare well in making accurate predictions. In doing so, several classification Techniques are compared. The model should perform better than a base model i.e., the one with 70% and above accuracy. Also, recall should be high because from a Business point of view 'False Negative's' i.e., Fraudulent transactions classified as Non-Fraudulent will be more costlier to the Bank."
   ]
  },
  {
   "cell_type": "code",
   "execution_count": 34,
   "metadata": {
    "scrolled": true
   },
   "outputs": [
    {
     "name": "stdout",
     "output_type": "stream",
     "text": [
      "LR:\n",
      " ACCURACY = 0.737500, RECALL=(0.893032), PRECISION=(0.769164), ROC-AUC=(0.750899)\n",
      "KNN:\n",
      " ACCURACY = 0.738750, RECALL=(0.873575), PRECISION=(0.780347), ROC-AUC=(0.694762)\n",
      "SGD:\n",
      " ACCURACY = 0.640000, RECALL=(0.749934), PRECISION=(0.772073), ROC-AUC=(0.668176)\n",
      "DT:\n",
      " ACCURACY = 0.673750, RECALL=(0.760909), PRECISION=(0.770924), ROC-AUC=(0.607925)\n",
      "SVC:\n",
      " ACCURACY = 0.745000, RECALL=(0.915376), PRECISION=(0.767093), ROC-AUC=(0.747598)\n",
      "RF:\n",
      " ACCURACY = 0.705000, RECALL=(0.807252), PRECISION=(0.770879), ROC-AUC=(0.712300)\n",
      "Ada:\n",
      " ACCURACY = 0.726250, RECALL=(0.853472), PRECISION=(0.776596), ROC-AUC=(0.725697)\n",
      "Grad:\n",
      " ACCURACY = 0.738750, RECALL=(0.873837), PRECISION=(0.780196), ROC-AUC=(0.741123)\n"
     ]
    }
   ],
   "source": [
    "models = []\n",
    "\n",
    "models.append(('LR', LogisticRegression()))\n",
    "models.append(('KNN', KNeighborsClassifier()))\n",
    "models.append(('SGD', SGDClassifier()))\n",
    "models.append(('DT', DecisionTreeClassifier()))\n",
    "models.append(('SVC', SVC()))\n",
    "models.append(('RF', RandomForestClassifier()))\n",
    "models.append(('Ada', AdaBoostClassifier()))\n",
    "models.append(('Grad', GradientBoostingClassifier()))\n",
    "\n",
    "# Model Evaluation\n",
    "\n",
    "result = []\n",
    "model_names = []\n",
    "scoring = ['accuracy', 'recall', 'precision', 'roc_auc']\n",
    "\n",
    "for model_name, model in models:\n",
    "    kfold = KFold(n_splits=10, random_state=SEED)\n",
    "    cv_results1 = cross_val_score(model, x_train, y_train, cv = kfold, scoring=scoring[0])\n",
    "    cv_results2 = cross_val_score(model, x_train, y_train, cv = kfold, scoring=scoring[1])\n",
    "    cv_results3 = cross_val_score(model, x_train, y_train, cv = kfold, scoring=scoring[2])\n",
    "    cv_results4 = cross_val_score(model, x_train, y_train, cv = kfold, scoring=scoring[3])\n",
    "    model_names.append(model_name)\n",
    "    msg = \"%s:\\n ACCURACY = %f, RECALL=(%f), PRECISION=(%f), ROC-AUC=(%f)\" % (model_name, cv_results1.mean(),cv_results2.mean(), cv_results3.mean(), cv_results4.mean())\n",
    "    print(msg)\n",
    "\n",
    "    "
   ]
  },
  {
   "cell_type": "markdown",
   "metadata": {},
   "source": [
    "## 5.3 Model Selection: Logistic Regression"
   ]
  },
  {
   "cell_type": "markdown",
   "metadata": {},
   "source": [
    "The reasons for choosing 'Logistic Regression' over other Techniques is as below:\n",
    "    - Simplicity.\n",
    "    - Explainability.\n",
    "    - Accuracy, Recall and ROC-AUC is comparable to Ensemble Methods."
   ]
  },
  {
   "cell_type": "code",
   "execution_count": 35,
   "metadata": {},
   "outputs": [
    {
     "data": {
      "text/plain": [
       "0.71"
      ]
     },
     "execution_count": 35,
     "metadata": {},
     "output_type": "execute_result"
    }
   ],
   "source": [
    "lr = LogisticRegression()\n",
    "\n",
    "model = lr.fit(x_train, y_train)\n",
    "\n",
    "model.score(x_val, y_val)"
   ]
  },
  {
   "cell_type": "code",
   "execution_count": 36,
   "metadata": {},
   "outputs": [
    {
     "data": {
      "text/plain": [
       "0.74"
      ]
     },
     "execution_count": 36,
     "metadata": {},
     "output_type": "execute_result"
    }
   ],
   "source": [
    "# Fitting the model using the intermediate dataset.\n",
    "model2 = lr.fit(x_int, y_int)\n",
    "\n",
    "model2.score(x_test, y_test)"
   ]
  },
  {
   "cell_type": "code",
   "execution_count": 37,
   "metadata": {},
   "outputs": [],
   "source": [
    "# Predcited probability of each class.\n",
    "y_pred_prob = model2.predict_proba(x_test)\n",
    "\n",
    "# Predicted value of each class\n",
    "y_pred = model2.predict(x_test)"
   ]
  },
  {
   "cell_type": "code",
   "execution_count": 38,
   "metadata": {},
   "outputs": [
    {
     "name": "stdout",
     "output_type": "stream",
     "text": [
      "[[14 16]\n",
      " [10 60]]\n",
      "Transactions which were falsely classified as FRAUD =  16.0 Percent\n",
      "Transactions which were falsely classified as NOT-FRAUD = 10.0 Percent\n",
      "Transactions which were truly classified as FRAUD = 60.0 Percent\n",
      "Transactions which were truly classified as NOT-FRAUD = 14.0 Percent\n"
     ]
    }
   ],
   "source": [
    "cMatrix = confusion_matrix(y_test, y_pred)\n",
    "print(cMatrix)\n",
    "print(\"Transactions which were falsely classified as FRAUD =  %.1f Percent\" %(cMatrix[0][1]/ sum(sum(cMatrix))*100 ) )\n",
    "print(\"Transactions which were falsely classified as NOT-FRAUD = %.1f Percent\"%(cMatrix[1][0]/ sum(sum(cMatrix))*100 ) )\n",
    "print(\"Transactions which were truly classified as FRAUD = %.1f Percent\"% (cMatrix[1][1]/ sum(sum(cMatrix))*100 ) )\n",
    "print(\"Transactions which were truly classified as NOT-FRAUD = %.1f Percent\"% (cMatrix[0][0]/ sum(sum(cMatrix))*100 ))"
   ]
  },
  {
   "cell_type": "markdown",
   "metadata": {},
   "source": [
    "## 5.4 Model Optimization"
   ]
  },
  {
   "cell_type": "markdown",
   "metadata": {},
   "source": [
    "Models with the regularization of type 'l1' and 'l2' are Optimized using Grid-SearchCV.Several Hyper-parameters were taken into consideration. It is to be observed:\n",
    "   * Model for type L1 performs better than L2.\n",
    "   * False Classification Rate for the model in section 5.4.1 is lesser than the one in 5.4.2. Hence, We will use it as our Base model."
   ]
  },
  {
   "cell_type": "markdown",
   "metadata": {},
   "source": [
    "### 5.4.1 'l1' Regularization"
   ]
  },
  {
   "cell_type": "code",
   "execution_count": 39,
   "metadata": {},
   "outputs": [],
   "source": [
    "LRPipeline1 = Pipeline([( 'LogReg', LogisticRegression(random_state=SEED)) ])\n",
    "\n",
    "params = dict({ 'LogReg__penalty': ['l1'],'LogReg__C': [0.001,0.01,0.1,0.5,0.9,1,3,5,10], 'LogReg__tol': [ 1e-4, 1e-3, 1e-2, 1e-1, 1, 1e2 ], 'LogReg__solver': ['liblinear','saga']})\n",
    "\n",
    "GSLR1 = GridSearchCV(LRPipeline1, params, cv=10, scoring='accuracy')"
   ]
  },
  {
   "cell_type": "code",
   "execution_count": 40,
   "metadata": {},
   "outputs": [
    {
     "data": {
      "text/plain": [
       "GridSearchCV(cv=10, error_score='raise-deprecating',\n",
       "       estimator=Pipeline(memory=None,\n",
       "     steps=[('LogReg', LogisticRegression(C=1.0, class_weight=None, dual=False, fit_intercept=True,\n",
       "          intercept_scaling=1, max_iter=100, multi_class='warn',\n",
       "          n_jobs=None, penalty='l2', random_state=666, solver='warn',\n",
       "          tol=0.0001, verbose=0, warm_start=False))]),\n",
       "       fit_params=None, iid='warn', n_jobs=None,\n",
       "       param_grid={'LogReg__penalty': ['l1'], 'LogReg__C': [0.001, 0.01, 0.1, 0.5, 0.9, 1, 3, 5, 10], 'LogReg__tol': [0.0001, 0.001, 0.01, 0.1, 1, 100.0], 'LogReg__solver': ['liblinear', 'saga']},\n",
       "       pre_dispatch='2*n_jobs', refit=True, return_train_score='warn',\n",
       "       scoring='accuracy', verbose=0)"
      ]
     },
     "execution_count": 40,
     "metadata": {},
     "output_type": "execute_result"
    }
   ],
   "source": [
    "GSLR1.fit(x_train,y_train)"
   ]
  },
  {
   "cell_type": "code",
   "execution_count": 41,
   "metadata": {},
   "outputs": [
    {
     "data": {
      "text/plain": [
       "0.69"
      ]
     },
     "execution_count": 41,
     "metadata": {},
     "output_type": "execute_result"
    }
   ],
   "source": [
    "GSLR1.score(x_val, y_val)"
   ]
  },
  {
   "cell_type": "code",
   "execution_count": 42,
   "metadata": {},
   "outputs": [
    {
     "data": {
      "text/plain": [
       "{'LogReg__C': 0.1,\n",
       " 'LogReg__penalty': 'l1',\n",
       " 'LogReg__solver': 'liblinear',\n",
       " 'LogReg__tol': 0.1}"
      ]
     },
     "execution_count": 42,
     "metadata": {},
     "output_type": "execute_result"
    }
   ],
   "source": [
    "# Fetching the best parameters for Model building\n",
    "GSLR1.best_params_"
   ]
  },
  {
   "cell_type": "code",
   "execution_count": 43,
   "metadata": {},
   "outputs": [
    {
     "data": {
      "text/plain": [
       "GridSearchCV(cv=10, error_score='raise-deprecating',\n",
       "       estimator=Pipeline(memory=None,\n",
       "     steps=[('LogReg', LogisticRegression(C=1.0, class_weight=None, dual=False, fit_intercept=True,\n",
       "          intercept_scaling=1, max_iter=100, multi_class='warn',\n",
       "          n_jobs=None, penalty='l2', random_state=666, solver='warn',\n",
       "          tol=0.0001, verbose=0, warm_start=False))]),\n",
       "       fit_params=None, iid='warn', n_jobs=None,\n",
       "       param_grid={'LogReg__penalty': ['l1'], 'LogReg__C': [0.001, 0.01, 0.1, 0.5, 0.9, 1, 3, 5, 10], 'LogReg__tol': [0.0001, 0.001, 0.01, 0.1, 1, 100.0], 'LogReg__solver': ['liblinear', 'saga']},\n",
       "       pre_dispatch='2*n_jobs', refit=True, return_train_score='warn',\n",
       "       scoring='accuracy', verbose=0)"
      ]
     },
     "execution_count": 43,
     "metadata": {},
     "output_type": "execute_result"
    }
   ],
   "source": [
    "# Fitting the model using the intermediate dataset.\n",
    "GSLR1.fit(x_int,y_int)"
   ]
  },
  {
   "cell_type": "code",
   "execution_count": 44,
   "metadata": {},
   "outputs": [
    {
     "data": {
      "text/plain": [
       "0.74"
      ]
     },
     "execution_count": 44,
     "metadata": {},
     "output_type": "execute_result"
    }
   ],
   "source": [
    "# Model Accuracy on the Test Set\n",
    "\n",
    "GSLR1.score(x_test, y_test)"
   ]
  },
  {
   "cell_type": "code",
   "execution_count": 45,
   "metadata": {},
   "outputs": [],
   "source": [
    "# Predcited probability of each class.\n",
    "y_pred_prob1 = GSLR1.predict_proba(x_test)\n",
    "\n",
    "# Predicted value of each class\n",
    "y_pred1 = GSLR1.predict(x_test)"
   ]
  },
  {
   "cell_type": "code",
   "execution_count": 46,
   "metadata": {},
   "outputs": [
    {
     "name": "stdout",
     "output_type": "stream",
     "text": [
      "[[14 16]\n",
      " [10 60]]\n",
      "Transactions which were falsely classified as FRAUD =  16.0 Percent\n",
      "Transactions which were falsely classified as NOT-FRAUD = 10.0 Percent\n",
      "Transactions which were truly classified as FRAUD = 60.0 Percent\n",
      "Transactions which were truly classified as NOT-FRAUD = 14.0 Percent\n"
     ]
    }
   ],
   "source": [
    "cMatrix1 = confusion_matrix(y_test, y_pred1)\n",
    "print(cMatrix1)\n",
    "print(\"Transactions which were falsely classified as FRAUD =  %.1f Percent\" %(cMatrix1[0][1]/ sum(sum(cMatrix1))*100 ) )\n",
    "print(\"Transactions which were falsely classified as NOT-FRAUD = %.1f Percent\"%(cMatrix1[1][0]/ sum(sum(cMatrix1))*100 ) )\n",
    "print(\"Transactions which were truly classified as FRAUD = %.1f Percent\"% (cMatrix1[1][1]/ sum(sum(cMatrix1))*100 ) )\n",
    "print(\"Transactions which were truly classified as NOT-FRAUD = %.1f Percent\"% (cMatrix1[0][0]/ sum(sum(cMatrix1))*100 ))"
   ]
  },
  {
   "cell_type": "markdown",
   "metadata": {},
   "source": [
    "### 5.4.2 'l2' Regularization"
   ]
  },
  {
   "cell_type": "code",
   "execution_count": 47,
   "metadata": {},
   "outputs": [],
   "source": [
    "LRPipeline2 = Pipeline([( 'LogReg', LogisticRegression(random_state=SEED)) ])\n",
    "\n",
    "params = dict({'LogReg__max_iter':[100,200,300,400,500] ,'LogReg__penalty': ['l2'],'LogReg__C': [0.01,0.1,0.5,0.9,1,5,10], 'LogReg__tol': [ 1e-4, 1e-3, 1e-2, 1e-1, 1, 1e2 ], 'LogReg__solver': ['newton-cg','sag','lbfgs']})\n",
    "\n",
    "GSLR2 = GridSearchCV(LRPipeline2, params, cv=10, scoring='accuracy')"
   ]
  },
  {
   "cell_type": "code",
   "execution_count": 48,
   "metadata": {
    "scrolled": true
   },
   "outputs": [
    {
     "data": {
      "text/plain": [
       "GridSearchCV(cv=10, error_score='raise-deprecating',\n",
       "       estimator=Pipeline(memory=None,\n",
       "     steps=[('LogReg', LogisticRegression(C=1.0, class_weight=None, dual=False, fit_intercept=True,\n",
       "          intercept_scaling=1, max_iter=100, multi_class='warn',\n",
       "          n_jobs=None, penalty='l2', random_state=666, solver='warn',\n",
       "          tol=0.0001, verbose=0, warm_start=False))]),\n",
       "       fit_params=None, iid='warn', n_jobs=None,\n",
       "       param_grid={'LogReg__max_iter': [100, 200, 300, 400, 500], 'LogReg__penalty': ['l2'], 'LogReg__C': [0.01, 0.1, 0.5, 0.9, 1, 5, 10], 'LogReg__tol': [0.0001, 0.001, 0.01, 0.1, 1, 100.0], 'LogReg__solver': ['newton-cg', 'sag', 'lbfgs']},\n",
       "       pre_dispatch='2*n_jobs', refit=True, return_train_score='warn',\n",
       "       scoring='accuracy', verbose=0)"
      ]
     },
     "execution_count": 48,
     "metadata": {},
     "output_type": "execute_result"
    }
   ],
   "source": [
    "GSLR2.fit(x_train,y_train)"
   ]
  },
  {
   "cell_type": "code",
   "execution_count": 49,
   "metadata": {
    "scrolled": false
   },
   "outputs": [
    {
     "data": {
      "text/plain": [
       "{'LogReg__C': 0.1,\n",
       " 'LogReg__max_iter': 100,\n",
       " 'LogReg__penalty': 'l2',\n",
       " 'LogReg__solver': 'newton-cg',\n",
       " 'LogReg__tol': 0.0001}"
      ]
     },
     "execution_count": 49,
     "metadata": {},
     "output_type": "execute_result"
    }
   ],
   "source": [
    "# Fetching the best parameters for Model building\n",
    "GSLR2.best_params_"
   ]
  },
  {
   "cell_type": "code",
   "execution_count": 50,
   "metadata": {},
   "outputs": [
    {
     "data": {
      "text/plain": [
       "GridSearchCV(cv=10, error_score='raise-deprecating',\n",
       "       estimator=Pipeline(memory=None,\n",
       "     steps=[('LogReg', LogisticRegression(C=1.0, class_weight=None, dual=False, fit_intercept=True,\n",
       "          intercept_scaling=1, max_iter=100, multi_class='warn',\n",
       "          n_jobs=None, penalty='l2', random_state=666, solver='warn',\n",
       "          tol=0.0001, verbose=0, warm_start=False))]),\n",
       "       fit_params=None, iid='warn', n_jobs=None,\n",
       "       param_grid={'LogReg__max_iter': [100, 200, 300, 400, 500], 'LogReg__penalty': ['l2'], 'LogReg__C': [0.01, 0.1, 0.5, 0.9, 1, 5, 10], 'LogReg__tol': [0.0001, 0.001, 0.01, 0.1, 1, 100.0], 'LogReg__solver': ['newton-cg', 'sag', 'lbfgs']},\n",
       "       pre_dispatch='2*n_jobs', refit=True, return_train_score='warn',\n",
       "       scoring='accuracy', verbose=0)"
      ]
     },
     "execution_count": 50,
     "metadata": {},
     "output_type": "execute_result"
    }
   ],
   "source": [
    "# Fitting the model using the intermediate dataset.\n",
    "GSLR2.fit(x_int,y_int)"
   ]
  },
  {
   "cell_type": "code",
   "execution_count": 51,
   "metadata": {},
   "outputs": [
    {
     "data": {
      "text/plain": [
       "0.76"
      ]
     },
     "execution_count": 51,
     "metadata": {},
     "output_type": "execute_result"
    }
   ],
   "source": [
    "# Model Accuracy on the Test Set\n",
    "\n",
    "GSLR2.score(x_test, y_test)"
   ]
  },
  {
   "cell_type": "code",
   "execution_count": 52,
   "metadata": {},
   "outputs": [],
   "source": [
    "# Predcited probability of each class.\n",
    "y_pred_prob2 = GSLR2.predict_proba(x_test)\n",
    "\n",
    "# Predicted value of each class\n",
    "y_pred2 = GSLR2.predict(x_test)"
   ]
  },
  {
   "cell_type": "code",
   "execution_count": 53,
   "metadata": {},
   "outputs": [
    {
     "name": "stdout",
     "output_type": "stream",
     "text": [
      "[[15 15]\n",
      " [ 9 61]]\n",
      "Transactions which were falsely classified as FRAUD =  15.0 Percent\n",
      "Transactions which were falsely classified as NOT-FRAUD = 9.0 Percent\n",
      "Transactions which were truly classified as FRAUD = 61.0 Percent\n",
      "Transactions which were truly classified as NOT-FRAUD = 15.0 Percent\n"
     ]
    }
   ],
   "source": [
    "cMatrix2 = confusion_matrix(y_test, y_pred2)\n",
    "print(cMatrix2)\n",
    "print(\"Transactions which were falsely classified as FRAUD =  %.1f Percent\" %(cMatrix2[0][1]/ sum(sum(cMatrix2))*100 ) )\n",
    "print(\"Transactions which were falsely classified as NOT-FRAUD = %.1f Percent\"%(cMatrix2[1][0]/ sum(sum(cMatrix2))*100 ) )\n",
    "print(\"Transactions which were truly classified as FRAUD = %.1f Percent\"% (cMatrix2[1][1]/ sum(sum(cMatrix2))*100 ) )\n",
    "print(\"Transactions which were truly classified as NOT-FRAUD = %.1f Percent\"% (cMatrix2[0][0]/ sum(sum(cMatrix2))*100 ))"
   ]
  },
  {
   "cell_type": "markdown",
   "metadata": {},
   "source": [
    "## 5.5 Model Evaluation"
   ]
  },
  {
   "cell_type": "markdown",
   "metadata": {},
   "source": [
    "We shall proceed with the model selected in section 5.4.1. The goal is to reduce the **FALSE NEGATIVE** count i.e., Fraudulent Transactions that are classified as Non-Fraudulent. This is so because classifying a Fraud transaction as Non-Fraud will be more cost inducuve to the Bank than classifying a Non-Fraud Transaction as Fraud.    \n",
    "In order to do so, we tweak the predicted probability of the test data and assign higher weightage to "
   ]
  },
  {
   "cell_type": "code",
   "execution_count": 54,
   "metadata": {},
   "outputs": [],
   "source": [
    "# Vaues taken from section 5.4.1\n",
    "finalModel = LogisticRegression(penalty='l1', solver='liblinear', tol=0.1, C=5)"
   ]
  },
  {
   "cell_type": "code",
   "execution_count": 55,
   "metadata": {},
   "outputs": [
    {
     "data": {
      "text/plain": [
       "LogisticRegression(C=5, class_weight=None, dual=False, fit_intercept=True,\n",
       "          intercept_scaling=1, max_iter=100, multi_class='warn',\n",
       "          n_jobs=None, penalty='l1', random_state=None, solver='liblinear',\n",
       "          tol=0.1, verbose=0, warm_start=False)"
      ]
     },
     "execution_count": 55,
     "metadata": {},
     "output_type": "execute_result"
    }
   ],
   "source": [
    "finalModel.fit(x_int, y_int)"
   ]
  },
  {
   "cell_type": "code",
   "execution_count": 56,
   "metadata": {},
   "outputs": [
    {
     "name": "stdout",
     "output_type": "stream",
     "text": [
      "The Accuracy of the model on the Train Set is: 75.0 \n",
      "The Accuracy of the model on the Test Set is: 74.0 \n"
     ]
    }
   ],
   "source": [
    "scoreTrain = finalModel.score(x_val, y_val)\n",
    "scoreTest = finalModel.score(x_test,y_test)\n",
    "\n",
    "print(\"The Accuracy of the model on the Train Set is: %.1f \" % (scoreTrain * 100))\n",
    "print(\"The Accuracy of the model on the Test Set is: %.1f \" % (scoreTest * 100))"
   ]
  },
  {
   "cell_type": "code",
   "execution_count": 57,
   "metadata": {},
   "outputs": [
    {
     "name": "stdout",
     "output_type": "stream",
     "text": [
      "[[ 4 26]\n",
      " [ 0 70]]\n",
      "Transactions which were falsely classified as FRAUD =  26.0 Percent\n",
      "Transactions which were falsely classified as NOT-FRAUD = 0.0 Percent\n",
      "Transactions which were truly classified as FRAUD = 70.0 Percent\n",
      "Transactions which were truly classified as NOT-FRAUD = 4.0 Percent\n"
     ]
    }
   ],
   "source": [
    "# Predcited probability of each class.\n",
    "y_pred_prob_final = finalModel.predict_proba(x_test)\n",
    "\n",
    "# Predicted value of each class\n",
    "y_pred_final = finalModel.predict(x_test)\n",
    "\n",
    "# Predicted Probability of class '0' i.e., not a Fraud Transaction.\n",
    "y_zero = pd.Series(y_pred_prob_final[:,0])\n",
    "\n",
    "# Mapping the predicted probability higher than 0.689 to class 0 i.e., Not-Fraud class.\n",
    "y_pred_optimum = y_zero.map(lambda x: 0 if x>0.689 else 1)\n",
    "\n",
    "cMatrix = confusion_matrix(y_test, y_pred_optimum)\n",
    "print(cMatrix)\n",
    "print(\"Transactions which were falsely classified as FRAUD =  %.1f Percent\" %(cMatrix[0][1]/ sum(sum(cMatrix))*100 ) )\n",
    "print(\"Transactions which were falsely classified as NOT-FRAUD = %.1f Percent\"%(cMatrix[1][0]/ sum(sum(cMatrix))*100 ) )\n",
    "print(\"Transactions which were truly classified as FRAUD = %.1f Percent\"% (cMatrix[1][1]/ sum(sum(cMatrix))*100 ) )\n",
    "print(\"Transactions which were truly classified as NOT-FRAUD = %.1f Percent\"% (cMatrix[0][0]/ sum(sum(cMatrix))*100 ))"
   ]
  },
  {
   "cell_type": "markdown",
   "metadata": {},
   "source": [
    "# 6. Results"
   ]
  },
  {
   "cell_type": "markdown",
   "metadata": {},
   "source": [
    "|**Model**| **Train Accuracy**| **Test Accuracy**|\n",
    "|:-------:|:-----------------:|:--------------:|\n",
    "| Logistic Regression |  72% | 72% |"
   ]
  },
  {
   "cell_type": "markdown",
   "metadata": {},
   "source": [
    "   * **Test False Negative Rate** : 10%\n",
    "   * **Test False Positive Rate** : 18%"
   ]
  },
  {
   "cell_type": "markdown",
   "metadata": {},
   "source": [
    "# 7. Conclusion"
   ]
  },
  {
   "cell_type": "markdown",
   "metadata": {},
   "source": [
    "* The current model has an accuracy of 72% on unseen data.\n",
    "* The Model makes a trade-off i.e., in order to reduce False-Negative, the False-Positive prediction rate increases."
   ]
  }
 ],
 "metadata": {
  "kernelspec": {
   "display_name": "Python 3",
   "language": "python",
   "name": "python3"
  },
  "language_info": {
   "codemirror_mode": {
    "name": "ipython",
    "version": 3
   },
   "file_extension": ".py",
   "mimetype": "text/x-python",
   "name": "python",
   "nbconvert_exporter": "python",
   "pygments_lexer": "ipython3",
   "version": "3.7.0"
  }
 },
 "nbformat": 4,
 "nbformat_minor": 2
}
